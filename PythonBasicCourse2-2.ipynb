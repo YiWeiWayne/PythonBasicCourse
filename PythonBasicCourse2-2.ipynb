{
 "cells": [
  {
   "cell_type": "markdown",
   "id": "a2b5c98a",
   "metadata": {},
   "source": [
    "# PythonBasicCourse\n",
    "\n",
    "## 二、基本資料型態與語法\n",
    "### 2. 介紹程式基本邏輯(if-else, for, range(), match, do-while)"
   ]
  },
  {
   "cell_type": "code",
   "execution_count": null,
   "id": "c6a2647a",
   "metadata": {},
   "outputs": [],
   "source": []
  },
  {
   "cell_type": "code",
   "execution_count": null,
   "id": "c669ef58",
   "metadata": {},
   "outputs": [],
   "source": []
  }
 ],
 "metadata": {
  "kernelspec": {
   "display_name": "Python 3 (ipykernel)",
   "language": "python",
   "name": "python3"
  },
  "language_info": {
   "codemirror_mode": {
    "name": "ipython",
    "version": 3
   },
   "file_extension": ".py",
   "mimetype": "text/x-python",
   "name": "python",
   "nbconvert_exporter": "python",
   "pygments_lexer": "ipython3",
   "version": "3.9.13"
  }
 },
 "nbformat": 4,
 "nbformat_minor": 5
}
