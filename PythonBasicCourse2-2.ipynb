{
 "cells": [
  {
   "cell_type": "markdown",
   "id": "a2b5c98a",
   "metadata": {},
   "source": [
    "# PythonBasicCourse\n",
    "\n",
    "## 二、基本資料型態與語法\n",
    "### 2. 介紹程式基本邏輯(if-else, for, range(), match, do-while)"
   ]
  },
  {
   "cell_type": "markdown",
   "id": "2b4db905",
   "metadata": {},
   "source": [
    "### if 陳述式\n",
    "+ 最常見的陳述式種類就是 if"
   ]
  },
  {
   "cell_type": "code",
   "execution_count": null,
   "id": "c669ef58",
   "metadata": {},
   "outputs": [],
   "source": [
    "x = int(input(\"Please enter an integer: \"))\n",
    "Please enter an integer: 42\n",
    "if x < 0:\n",
    "    x = 0\n",
    "    print('Negative changed to zero')\n",
    "elif x == 0:\n",
    "    print('Zero')\n",
    "elif x == 1:\n",
    "    print('Single')\n",
    "else:\n",
    "    print('More')"
   ]
  },
  {
   "cell_type": "markdown",
   "id": "6a297749",
   "metadata": {},
   "source": [
    "+ 關鍵字 **elif** 是「else if」的縮寫\n",
    "+ 一個 if ... elif ... elif ... 序列可以用來替代其他程式語言中的 **switch 或 case 陳述式**。"
   ]
  },
  {
   "cell_type": "markdown",
   "id": "9736e9d4",
   "metadata": {},
   "source": [
    "### for 陳述式\n",
    "+ Python 的 for 陳述式疊代任何序列（list 或者字串）的元素，**順序與它們出現在序列中的順序相同**。"
   ]
  },
  {
   "cell_type": "code",
   "execution_count": null,
   "id": "231c6949",
   "metadata": {},
   "outputs": [],
   "source": [
    "words = ['cat', 'window', 'defenestrate']\n",
    "for w in words:\n",
    "    print(w, len(w))"
   ]
  },
  {
   "cell_type": "markdown",
   "id": "4965c185",
   "metadata": {},
   "source": [
    "###  range() 函式\n",
    "+  range() 函式: 它可以生成一等差數列"
   ]
  },
  {
   "cell_type": "code",
   "execution_count": null,
   "id": "85b70e69",
   "metadata": {},
   "outputs": [],
   "source": [
    "for i in range(5):\n",
    "    print(i)"
   ]
  },
  {
   "cell_type": "markdown",
   "id": "7e91ce1f",
   "metadata": {},
   "source": [
    "+ 給定的**結束值永遠不會出現在生成的序列中**\n",
    "  + range(10) 生成的 10 個數值，即對應存取一個長度為 10 的序列內每一個項目的索引值。\n",
    "+ 也可以讓 range 從**其他數值開始計數**，或者給定**不同的公差**（<font color=#FF0000>甚至為負</font>；有時稱之為 step）"
   ]
  },
  {
   "cell_type": "code",
   "execution_count": null,
   "id": "b6b5388e",
   "metadata": {},
   "outputs": [],
   "source": [
    "list(range(5, 10))"
   ]
  },
  {
   "cell_type": "code",
   "execution_count": null,
   "id": "8b81482c",
   "metadata": {},
   "outputs": [],
   "source": [
    "list(range(0, 10, 3))"
   ]
  },
  {
   "cell_type": "code",
   "execution_count": null,
   "id": "32f14e75",
   "metadata": {},
   "outputs": [],
   "source": [
    "list(range(-10, -100, -30))"
   ]
  },
  {
   "cell_type": "markdown",
   "id": "061fe6de",
   "metadata": {},
   "source": [
    "### 迴圈內的 break 和 continue 陳述式及 else 子句\n",
    "+ break 陳述式，如同 C 語言，**終止包含它的最內部 for 或 while 迴圈**。"
   ]
  },
  {
   "cell_type": "code",
   "execution_count": null,
   "id": "6081c298",
   "metadata": {},
   "outputs": [],
   "source": [
    "for n in range(2, 10):\n",
    "    for x in range(2, n):\n",
    "        if n % x == 0:\n",
    "            print(n, 'equals', x, '*', n//x)\n",
    "            break\n",
    "    else:\n",
    "        # loop fell through without finding a factor\n",
    "        print(n, 'is a prime number')"
   ]
  },
  {
   "cell_type": "markdown",
   "id": "a356b9fa",
   "metadata": {},
   "source": [
    "+ 迴圈的 else 子句在<font color=#FF0000>沒有任何 break 發生時執行</font>。"
   ]
  },
  {
   "cell_type": "markdown",
   "id": "2ab172fd",
   "metadata": {},
   "source": [
    "### pass 陳述式\n",
    "+ pass 陳述式**不執行任何動作**。它可用在語法上需要一個陳述式但程式不需要執行任何動作的時候。例如："
   ]
  },
  {
   "cell_type": "code",
   "execution_count": 1,
   "id": "2dd6ea1f",
   "metadata": {},
   "outputs": [
    {
     "ename": "KeyboardInterrupt",
     "evalue": "",
     "output_type": "error",
     "traceback": [
      "\u001b[1;31m---------------------------------------------------------------------------\u001b[0m",
      "\u001b[1;31mKeyboardInterrupt\u001b[0m                         Traceback (most recent call last)",
      "\u001b[1;32m~\\AppData\\Local\\Temp\\ipykernel_7140\\842155209.py\u001b[0m in \u001b[0;36m<module>\u001b[1;34m\u001b[0m\n\u001b[0;32m      1\u001b[0m \u001b[1;32mwhile\u001b[0m \u001b[1;32mTrue\u001b[0m\u001b[1;33m:\u001b[0m\u001b[1;33m\u001b[0m\u001b[1;33m\u001b[0m\u001b[0m\n\u001b[1;32m----> 2\u001b[1;33m     \u001b[1;32mpass\u001b[0m  \u001b[1;31m# Busy-wait for keyboard interrupt (Ctrl+C)\u001b[0m\u001b[1;33m\u001b[0m\u001b[1;33m\u001b[0m\u001b[0m\n\u001b[0m",
      "\u001b[1;31mKeyboardInterrupt\u001b[0m: "
     ]
    }
   ],
   "source": [
    "while True:\n",
    "    pass  # Busy-wait for keyboard interrupt (Ctrl+C)"
   ]
  },
  {
   "cell_type": "markdown",
   "id": "8d645919",
   "metadata": {},
   "source": [
    "### match 陳述式"
   ]
  }
 ],
 "metadata": {
  "kernelspec": {
   "display_name": "Python 3 (ipykernel)",
   "language": "python",
   "name": "python3"
  },
  "language_info": {
   "codemirror_mode": {
    "name": "ipython",
    "version": 3
   },
   "file_extension": ".py",
   "mimetype": "text/x-python",
   "name": "python",
   "nbconvert_exporter": "python",
   "pygments_lexer": "ipython3",
   "version": "3.9.13"
  }
 },
 "nbformat": 4,
 "nbformat_minor": 5
}
