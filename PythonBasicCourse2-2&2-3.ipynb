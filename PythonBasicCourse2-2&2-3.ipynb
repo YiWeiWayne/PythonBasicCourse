{
 "cells": [
  {
   "cell_type": "markdown",
   "id": "a2b5c98a",
   "metadata": {},
   "source": [
    "# PythonBasicCourse\n",
    "\n",
    "## 二、基本資料型態與語法\n",
    "### 2. 介紹程式基本邏輯(if-else, for, range(), match, do-while)"
   ]
  },
  {
   "cell_type": "markdown",
   "id": "2b4db905",
   "metadata": {},
   "source": [
    "### if 陳述式\n",
    "+ 最常見的陳述式種類就是 if"
   ]
  },
  {
   "cell_type": "code",
   "execution_count": null,
   "id": "c669ef58",
   "metadata": {},
   "outputs": [],
   "source": [
    "x = int(input(\"Please enter an integer: \"))\n",
    "Please enter an integer: 42\n",
    "if x < 0:\n",
    "    x = 0\n",
    "    print('Negative changed to zero')\n",
    "elif x == 0:\n",
    "    print('Zero')\n",
    "elif x == 1:\n",
    "    print('Single')\n",
    "else:\n",
    "    print('More')"
   ]
  },
  {
   "cell_type": "markdown",
   "id": "6a297749",
   "metadata": {},
   "source": [
    "+ 關鍵字 **elif** 是「else if」的縮寫\n",
    "+ 一個 if ... elif ... elif ... 序列可以用來替代其他程式語言中的 **switch 或 case 陳述式**。"
   ]
  },
  {
   "cell_type": "markdown",
   "id": "9736e9d4",
   "metadata": {},
   "source": [
    "### for 陳述式\n",
    "+ Python 的 for 陳述式疊代任何序列（list 或者字串）的元素，**順序與它們出現在序列中的順序相同**。"
   ]
  },
  {
   "cell_type": "code",
   "execution_count": null,
   "id": "231c6949",
   "metadata": {},
   "outputs": [],
   "source": [
    "words = ['cat', 'window', 'defenestrate']\n",
    "for w in words:\n",
    "    print(w, len(w))"
   ]
  },
  {
   "cell_type": "markdown",
   "id": "4965c185",
   "metadata": {},
   "source": [
    "###  range() 函式\n",
    "+  range() 函式: 它可以生成一等差數列"
   ]
  },
  {
   "cell_type": "code",
   "execution_count": null,
   "id": "85b70e69",
   "metadata": {},
   "outputs": [],
   "source": [
    "for i in range(5):\n",
    "    print(i)"
   ]
  },
  {
   "cell_type": "markdown",
   "id": "7e91ce1f",
   "metadata": {},
   "source": [
    "+ 給定的**結束值永遠不會出現在生成的序列中**\n",
    "  + range(10) 生成的 10 個數值，即對應存取一個長度為 10 的序列內每一個項目的索引值。\n",
    "+ 也可以讓 range 從**其他數值開始計數**，或者給定**不同的公差**（<font color=#FF0000>甚至為負</font>；有時稱之為 step）"
   ]
  },
  {
   "cell_type": "code",
   "execution_count": 1,
   "id": "b6b5388e",
   "metadata": {},
   "outputs": [
    {
     "data": {
      "text/plain": [
       "[5, 6, 7, 8, 9]"
      ]
     },
     "execution_count": 1,
     "metadata": {},
     "output_type": "execute_result"
    }
   ],
   "source": [
    "list(range(5, 10))"
   ]
  },
  {
   "cell_type": "code",
   "execution_count": 2,
   "id": "8b81482c",
   "metadata": {},
   "outputs": [
    {
     "data": {
      "text/plain": [
       "[0, 3, 6, 9]"
      ]
     },
     "execution_count": 2,
     "metadata": {},
     "output_type": "execute_result"
    }
   ],
   "source": [
    "list(range(0, 10, 3))"
   ]
  },
  {
   "cell_type": "code",
   "execution_count": 3,
   "id": "32f14e75",
   "metadata": {},
   "outputs": [
    {
     "data": {
      "text/plain": [
       "[-10, -40, -70]"
      ]
     },
     "execution_count": 3,
     "metadata": {},
     "output_type": "execute_result"
    }
   ],
   "source": [
    "list(range(-10, -100, -30))"
   ]
  },
  {
   "cell_type": "markdown",
   "id": "061fe6de",
   "metadata": {},
   "source": [
    "### 迴圈內的 break 和 continue 陳述式及 else 子句\n",
    "+ break 陳述式，如同 C 語言，**終止包含它的最內部 for 或 while 迴圈**。"
   ]
  },
  {
   "cell_type": "code",
   "execution_count": null,
   "id": "6081c298",
   "metadata": {},
   "outputs": [],
   "source": [
    "for n in range(2, 10):\n",
    "    for x in range(2, n):\n",
    "        if n % x == 0:\n",
    "            print(n, 'equals', x, '*', n//x)\n",
    "            break\n",
    "    else:\n",
    "        # loop fell through without finding a factor\n",
    "        print(n, 'is a prime number')"
   ]
  },
  {
   "cell_type": "markdown",
   "id": "a356b9fa",
   "metadata": {},
   "source": [
    "+ 迴圈的 else 子句在<font color=#FF0000>沒有任何 break 發生時執行</font>。"
   ]
  },
  {
   "cell_type": "markdown",
   "id": "2ab172fd",
   "metadata": {},
   "source": [
    "### pass 陳述式\n",
    "+ pass 陳述式**不執行任何動作**。它可用在語法上需要一個陳述式但程式不需要執行任何動作的時候。例如："
   ]
  },
  {
   "cell_type": "code",
   "execution_count": 19,
   "id": "2dd6ea1f",
   "metadata": {},
   "outputs": [
    {
     "name": "stdout",
     "output_type": "stream",
     "text": [
      "0\n"
     ]
    }
   ],
   "source": [
    "count = 0\n",
    "while True:\n",
    "    print(count)\n",
    "    count += 1\n",
    "    break\n",
    "    #pass  # Busy-wait for keyboard interrupt (Ctrl+C)"
   ]
  },
  {
   "cell_type": "markdown",
   "id": "8d645919",
   "metadata": {},
   "source": [
    "### match 陳述式\n",
    "\n",
    "+ match 陳述式會拿取一個運算式，並將其值與多個連續的模式 (pattern) 進行比較，這些模式是以一個或多個 case 區塊來表示。\n",
    "+ 表面上，這類似 C、Java 或 JavaScript（以及許多其他語言）中的 switch 陳述式"
   ]
  },
  {
   "cell_type": "code",
   "execution_count": 28,
   "id": "d9aa8979",
   "metadata": {},
   "outputs": [
    {
     "name": "stdout",
     "output_type": "stream",
     "text": [
      "sys.version_info(major=3, minor=9, micro=13, releaselevel='final', serial=0)\n"
     ]
    }
   ],
   "source": [
    "# 最簡單的形式，是將一個主題值 (subject value) 與一個或多個字面值 (literal) 進行比較：\n",
    "\n",
    "import sys\n",
    "print(sys.version_info)\n",
    "if (sys.version_info >= (3, 10)):\n",
    "    '''\n",
    "    grade = 5\n",
    "    match grade:\n",
    "        case 1:\n",
    "            print('一年级')\n",
    "        case 2:\n",
    "            print('二年级')\n",
    "        case 3:\n",
    "            print('三年级')\n",
    "        case 4 | 5 | 6:\n",
    "            print('高年级')\n",
    "        case _:\n",
    "            print('未知年级')\n",
    "    '''\n"
   ]
  },
  {
   "cell_type": "markdown",
   "id": "88ee9414",
   "metadata": {},
   "source": [
    "### 3. 介紹函數與其組成元素(function, parameter, return, lambda, annotation)\n",
    "### function 定義函式\n",
    "\n",
    "+ 關鍵字 **def** 介紹一個函式的定義。它之後必須連著該函式的名稱和置於括號之中的**一串參數**。\n",
    "    + 自下一行起，所有縮排的陳述式成為該函式的主體。"
   ]
  },
  {
   "cell_type": "code",
   "execution_count": 7,
   "id": "271f9678",
   "metadata": {},
   "outputs": [
    {
     "name": "stdout",
     "output_type": "stream",
     "text": [
      "0 1 1 2 3 5 8 13 21 34 55 89 144 233 377 610 987 1597 "
     ]
    },
    {
     "data": {
      "text/plain": [
       "'Print a Fibonacci series up to n.'"
      ]
     },
     "execution_count": 7,
     "metadata": {},
     "output_type": "execute_result"
    }
   ],
   "source": [
    "# 我們可以建立一個函式來產生費式數列到任何一個上界：\n",
    "# https://zh.wikipedia.org/zh-tw/%E6%96%90%E6%B3%A2%E9%82%A3%E5%A5%91%E6%95%B0\n",
    "\n",
    "def fib(n):    # write Fibonacci series up to n\n",
    "    \"\"\"Print a Fibonacci series up to n.\"\"\"\n",
    "    a, b = 0, 1\n",
    "    while a < n:\n",
    "        print(a, end=' ')\n",
    "        a, b = b, a+b\n",
    "    n += 1\n",
    "\n",
    "# Now call the function we just defined:\n",
    "n = 2000\n",
    "fib(n)\n",
    "fib.__doc__ # 說明文件字串 (Documentation Strings)"
   ]
  },
  {
   "cell_type": "markdown",
   "id": "a64150f3",
   "metadata": {},
   "source": [
    "### 預設引數值\n",
    "+ 為一個或多個引數指定預設值是很有用的方式。函式建立後，可以用比定義時更少的引數呼叫該函式。例如："
   ]
  },
  {
   "cell_type": "code",
   "execution_count": 6,
   "id": "dfc56111",
   "metadata": {},
   "outputs": [
    {
     "name": "stdout",
     "output_type": "stream",
     "text": [
      "Do you really want to quit?y\n",
      "True\n",
      "OK to overwrite the file?y\n",
      "True\n",
      "OK to overwrite the file?y\n",
      "True\n"
     ]
    }
   ],
   "source": [
    "'''\n",
    "該函式可以用以下幾種方式被呼叫：\n",
    "\n",
    "只給必要引數：ask_ok('Do you really want to quit?')\n",
    "\n",
    "給予一個選擇性引數：ask_ok('OK to overwrite the file?', 2)\n",
    "\n",
    "給予所有引數：ask_ok('OK to overwrite the file?', 2, 'Come on, only yes or no!')\n",
    "'''\n",
    "def ask_ok(prompt, retries=4, reminder='Please try again!'):\n",
    "    while True:\n",
    "        ok = input(prompt)\n",
    "        if ok in ('y', 'ye', 'yes'):\n",
    "            return True\n",
    "        if ok in ('n', 'no', 'nop', 'nope'):\n",
    "            return False\n",
    "        retries = retries - 1\n",
    "        if retries < 0:\n",
    "            raise ValueError('invalid user response')\n",
    "        print(reminder)\n",
    "print(ask_ok('Do you really want to quit?'))\n",
    "print(ask_ok('OK to overwrite the file?', 2))\n",
    "print(ask_ok('OK to overwrite the file?', 2, 'Come on, only yes or no!'))"
   ]
  },
  {
   "cell_type": "code",
   "execution_count": 7,
   "id": "a3a8d844",
   "metadata": {},
   "outputs": [
    {
     "name": "stdout",
     "output_type": "stream",
     "text": [
      "5\n"
     ]
    }
   ],
   "source": [
    "# 預設值是在函式定義當下，於定義時的作用域中求值，所以\n",
    "i = 5\n",
    "\n",
    "def f(arg=i):\n",
    "    print(arg)\n",
    "\n",
    "i = 6\n",
    "f()"
   ]
  },
  {
   "cell_type": "code",
   "execution_count": 10,
   "id": "80c24f7a",
   "metadata": {},
   "outputs": [
    {
     "name": "stdout",
     "output_type": "stream",
     "text": [
      "[1]\n",
      "[1, 2]\n",
      "[1, 2, 3]\n"
     ]
    }
   ],
   "source": [
    "# 重要警告：預設值只求值一次。當預設值為可變物件，例如 list、dictionary（字典）或許多類別實例時，會產生不同的結果。\n",
    "# 例如，以下函式於後續呼叫時會累積曾經傳遞的引數：\n",
    "def f(a, L=[]):\n",
    "    L.append(a)\n",
    "    return L\n",
    "\n",
    "print(f(1))\n",
    "print(f(2))\n",
    "print(f(3))"
   ]
  },
  {
   "cell_type": "code",
   "execution_count": 9,
   "id": "e4c95734",
   "metadata": {},
   "outputs": [
    {
     "name": "stdout",
     "output_type": "stream",
     "text": [
      "[1]\n",
      "[2]\n",
      "[3]\n"
     ]
    }
   ],
   "source": [
    "# 如果不想在後續呼叫之間共用預設值，應以如下方式編寫函式：\n",
    "def f(a, L=None):\n",
    "    if L is None:\n",
    "        L = [] # assign null list\n",
    "    L.append(a)\n",
    "    return L\n",
    "\n",
    "print(f(1))\n",
    "print(f(2))\n",
    "print(f(3))"
   ]
  },
  {
   "cell_type": "markdown",
   "id": "c0628047",
   "metadata": {},
   "source": [
    "+ 當最後一個參數為 **name 形式時，它接收一個 dictionary（字典，詳見 映射类型 --- dict），該字典包含所有可對應形式參數以外的關鍵字引數。\n",
    "+ **name 可以與 *name 參數（下一小節介紹）組合使用，*name 接收一個 tuple，該 tuple 包含一般參數以外的位置引數\n",
    "    + （*name 必須出現在 **name 前面）。例如，若我們定義這樣的函式："
   ]
  },
  {
   "cell_type": "code",
   "execution_count": null,
   "id": "d38242cb",
   "metadata": {},
   "outputs": [],
   "source": [
    "def cheeseshop(kind, *arguments, **keywords):\n",
    "    print(\"-- Do you have any\", kind, \"?\")\n",
    "    print(\"-- I'm sorry, we're all out of\", kind)\n",
    "    for arg in arguments:\n",
    "        print(arg)\n",
    "    print(\"-\" * 40)\n",
    "    for kw in keywords:\n",
    "        print(kw, \":\", keywords[kw])\n",
    "\n",
    "cheeseshop(\"Limburger\", \"It's very runny, sir.\",\n",
    "           \"It's really very, VERY runny, sir.\",\n",
    "           shopkeeper=\"Michael Palin\",\n",
    "           client=\"John Cleese\",\n",
    "           sketch=\"Cheese Shop Sketch\")"
   ]
  },
  {
   "cell_type": "markdown",
   "id": "96df5e23",
   "metadata": {},
   "source": [
    "<font color=\"red\">注意</font>，關鍵字引數的**輸出順序**與**呼叫函式時被提供的順序必定一致**。"
   ]
  },
  {
   "cell_type": "markdown",
   "id": "14b98b0e",
   "metadata": {},
   "source": [
    "### 任意引數列表 (Arbitrary Argument Lists)\n",
    "\n",
    "+ 有個較不常用的選項，是規定函式被呼叫時，可以使用任意數量的引數。\n",
    "    - 通常，這些 variadic（可變的）引數會出現在參數列表的<font color=\"red\">最末端</font>，這樣它們就可以把所有傳遞給函式的剩餘輸入引數都撈起來。\n",
    "    - 出現在 *args 參數後面的任何參數必須是「僅限關鍵字」引數\n",
    "    "
   ]
  },
  {
   "cell_type": "code",
   "execution_count": 12,
   "id": "25dabe39",
   "metadata": {},
   "outputs": [
    {
     "name": "stdout",
     "output_type": "stream",
     "text": [
      "earth/mars/venus\n",
      "earth.mars.venus\n"
     ]
    }
   ],
   "source": [
    "def concat(*args, sep=\"/\"):\n",
    "    return sep.join(args)\n",
    "print(concat(\"earth\", \"mars\", \"venus\"))\n",
    "print(concat(\"earth\", \"mars\", \"venus\", sep='.'))"
   ]
  },
  {
   "cell_type": "markdown",
   "id": "9725bffb",
   "metadata": {},
   "source": [
    "### 拆解引數列表（Unpacking Argument Lists）\n",
    "\n",
    "+ 當引數們已經存在一個 list 或 tuple 裡，但為了滿足一個需要個別位置引數的函式呼叫，而去拆解它們時，情況就剛好相反。\n",
    "    - 例如，內建的 range() 函式要求分開的 **start** 和 **stop** 引數。如果這些引數不是分開的，則要在呼叫函式時，用 * 運算子把引數們從 list 或 tuple 中拆解出來："
   ]
  },
  {
   "cell_type": "code",
   "execution_count": 13,
   "id": "f67c31b8",
   "metadata": {},
   "outputs": [
    {
     "name": "stdout",
     "output_type": "stream",
     "text": [
      "[3, 4, 5]\n",
      "[3, 4, 5]\n"
     ]
    }
   ],
   "source": [
    "print(list(range(3, 6)))\n",
    "\n",
    "# equals to\n",
    "args = [3, 6]\n",
    "print(list(range(*args)))"
   ]
  },
  {
   "cell_type": "code",
   "execution_count": 14,
   "id": "28c72572",
   "metadata": {},
   "outputs": [
    {
     "name": "stdout",
     "output_type": "stream",
     "text": [
      "-- This parrot wouldn't VOOM if you put four million volts through it. E's bleedin' demised !\n"
     ]
    }
   ],
   "source": [
    "# 同樣地，dictionary（字典）可以用 ** 運算子傳遞關鍵字引數：\n",
    "def parrot(voltage, state='a stiff', action='voom'):\n",
    "     print(\"-- This parrot wouldn't\", action, end=' ')\n",
    "     print(\"if you put\", voltage, \"volts through it.\", end=' ')\n",
    "     print(\"E's\", state, \"!\")\n",
    "\n",
    "d = {\"voltage\": \"four million\", \"state\": \"bleedin' demised\", \"action\": \"VOOM\"}\n",
    "parrot(**d)"
   ]
  },
  {
   "cell_type": "markdown",
   "id": "8a1ffb15",
   "metadata": {},
   "source": [
    "###  Lambda 運算式\n",
    "\n",
    "+ lambda 關鍵字用於建立小巧的匿名函式。"
   ]
  },
  {
   "cell_type": "code",
   "execution_count": 2,
   "id": "4f54b18b",
   "metadata": {},
   "outputs": [
    {
     "name": "stdout",
     "output_type": "stream",
     "text": [
      "42\n",
      "43\n"
     ]
    }
   ],
   "source": [
    "def make_incrementor(n):\n",
    "    return lambda x: x + n\n",
    "\n",
    "f = make_incrementor(42)\n",
    "print(f(0))\n",
    "print(f(1))"
   ]
  },
  {
   "cell_type": "code",
   "execution_count": 12,
   "id": "703ba27e",
   "metadata": {},
   "outputs": [
    {
     "name": "stdout",
     "output_type": "stream",
     "text": [
      "[(4, 'four'), (1, 'one'), (3, 'three'), (2, 'two')]\n",
      "[(4, 'four'), (3, 'three'), (2, 'two'), (1, 'one')]\n"
     ]
    }
   ],
   "source": [
    "pairs = [(1, 'one'), (2, 'two'), (3, 'three'), (4, 'four')]\n",
    "pairs.sort(key=lambda pair: pair[1])\n",
    "print(pairs)\n",
    "pairs.sort(key=lambda pair: pair[0], reverse=True)\n",
    "print(pairs)"
   ]
  },
  {
   "cell_type": "markdown",
   "id": "57128541",
   "metadata": {},
   "source": [
    "### 程式碼風格 (Coding Style)\n",
    "對於 Python，大多數的專案都遵循 PEP 8 的樣式指南；它推行的編碼樣式相當可讀且賞心悅目。每個 Python 開發者都應該花點時間研讀；這裡是該指南的核心重點：\n",
    "+ 用 4 個空格縮排，不要用 tab 鍵。\n",
    "+ 4 個空格是小縮排（容許更大的巢套深度）和大縮排（較易閱讀）之間的折衷方案。Tab 鍵會造成混亂，最好別用。\n",
    "+ 換行，使一行不超過 79 個字元。\n",
    "+ 換行能讓使用小顯示器的使用者方便閱讀，也可以在較大顯示器上並排陳列多個程式碼檔案。\n",
    "+ 用空行分隔函式和 class（類別），及函式內較大塊的程式碼。\n",
    "+ 如果可以，把註解放在單獨一行。\n",
    "+ 使用說明字串。\n",
    "+ 運算子前後、逗號後要加空格，但不要直接放在括號內側：a = f(1, 2) + g(3, 4)。\n",
    "+ Class 和函式的命名樣式要一致；按慣例，命名 class 用 UpperCamelCase（駝峰式大小寫），命名函式與 method 用 lowercase_with_underscores（小寫加底線）。永遠用 self 作為 method 第一個引數的名稱（關於 class 和 method，詳見 初見 class）。\n",
    "+ 若程式碼是為了用於國際環境時，不要用花俏的編碼。Python 預設的 UTF-8 或甚至普通的 ASCII，就可以勝任各種情況。\n",
    "+ 同樣地，若不同語言使用者閱讀或維護程式碼的可能性微乎其微，就不要在命名時使用非 ASCII 字元。"
   ]
  },
  {
   "cell_type": "code",
   "execution_count": null,
   "id": "d23dce20",
   "metadata": {},
   "outputs": [],
   "source": []
  }
 ],
 "metadata": {
  "kernelspec": {
   "display_name": "Python 3 (ipykernel)",
   "language": "python",
   "name": "python3"
  },
  "language_info": {
   "codemirror_mode": {
    "name": "ipython",
    "version": 3
   },
   "file_extension": ".py",
   "mimetype": "text/x-python",
   "name": "python",
   "nbconvert_exporter": "python",
   "pygments_lexer": "ipython3",
   "version": "3.9.13"
  }
 },
 "nbformat": 4,
 "nbformat_minor": 5
}
