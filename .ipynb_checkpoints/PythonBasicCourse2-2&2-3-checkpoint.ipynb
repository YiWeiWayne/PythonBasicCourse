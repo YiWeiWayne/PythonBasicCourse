{
 "cells": [
  {
   "cell_type": "markdown",
   "id": "a2b5c98a",
   "metadata": {},
   "source": [
    "# PythonBasicCourse\n",
    "\n",
    "## 二、基本資料型態與語法\n",
    "### 2. 介紹程式基本邏輯(if-else, for, range(), match, do-while)"
   ]
  },
  {
   "cell_type": "markdown",
   "id": "2b4db905",
   "metadata": {},
   "source": [
    "### if 陳述式\n",
    "+ 最常見的陳述式種類就是 if"
   ]
  },
  {
   "cell_type": "code",
   "execution_count": null,
   "id": "c669ef58",
   "metadata": {},
   "outputs": [],
   "source": [
    "x = int(input(\"Please enter an integer: \"))\n",
    "Please enter an integer: 42\n",
    "if x < 0:\n",
    "    x = 0\n",
    "    print('Negative changed to zero')\n",
    "elif x == 0:\n",
    "    print('Zero')\n",
    "elif x == 1:\n",
    "    print('Single')\n",
    "else:\n",
    "    print('More')"
   ]
  },
  {
   "cell_type": "markdown",
   "id": "6a297749",
   "metadata": {},
   "source": [
    "+ 關鍵字 **elif** 是「else if」的縮寫\n",
    "+ 一個 if ... elif ... elif ... 序列可以用來替代其他程式語言中的 **switch 或 case 陳述式**。"
   ]
  },
  {
   "cell_type": "markdown",
   "id": "9736e9d4",
   "metadata": {},
   "source": [
    "### for 陳述式\n",
    "+ Python 的 for 陳述式疊代任何序列（list 或者字串）的元素，**順序與它們出現在序列中的順序相同**。"
   ]
  },
  {
   "cell_type": "code",
   "execution_count": null,
   "id": "231c6949",
   "metadata": {},
   "outputs": [],
   "source": [
    "words = ['cat', 'window', 'defenestrate']\n",
    "for w in words:\n",
    "    print(w, len(w))"
   ]
  },
  {
   "cell_type": "markdown",
   "id": "4965c185",
   "metadata": {},
   "source": [
    "###  range() 函式\n",
    "+  range() 函式: 它可以生成一等差數列"
   ]
  },
  {
   "cell_type": "code",
   "execution_count": null,
   "id": "85b70e69",
   "metadata": {},
   "outputs": [],
   "source": [
    "for i in range(5):\n",
    "    print(i)"
   ]
  },
  {
   "cell_type": "markdown",
   "id": "7e91ce1f",
   "metadata": {},
   "source": [
    "+ 給定的**結束值永遠不會出現在生成的序列中**\n",
    "  + range(10) 生成的 10 個數值，即對應存取一個長度為 10 的序列內每一個項目的索引值。\n",
    "+ 也可以讓 range 從**其他數值開始計數**，或者給定**不同的公差**（<font color=#FF0000>甚至為負</font>；有時稱之為 step）"
   ]
  },
  {
   "cell_type": "code",
   "execution_count": null,
   "id": "b6b5388e",
   "metadata": {},
   "outputs": [],
   "source": [
    "list(range(5, 10))"
   ]
  },
  {
   "cell_type": "code",
   "execution_count": null,
   "id": "8b81482c",
   "metadata": {},
   "outputs": [],
   "source": [
    "list(range(0, 10, 3))"
   ]
  },
  {
   "cell_type": "code",
   "execution_count": null,
   "id": "32f14e75",
   "metadata": {},
   "outputs": [],
   "source": [
    "list(range(-10, -100, -30))"
   ]
  },
  {
   "cell_type": "markdown",
   "id": "061fe6de",
   "metadata": {},
   "source": [
    "### 迴圈內的 break 和 continue 陳述式及 else 子句\n",
    "+ break 陳述式，如同 C 語言，**終止包含它的最內部 for 或 while 迴圈**。"
   ]
  },
  {
   "cell_type": "code",
   "execution_count": null,
   "id": "6081c298",
   "metadata": {},
   "outputs": [],
   "source": [
    "for n in range(2, 10):\n",
    "    for x in range(2, n):\n",
    "        if n % x == 0:\n",
    "            print(n, 'equals', x, '*', n//x)\n",
    "            break\n",
    "    else:\n",
    "        # loop fell through without finding a factor\n",
    "        print(n, 'is a prime number')"
   ]
  },
  {
   "cell_type": "markdown",
   "id": "a356b9fa",
   "metadata": {},
   "source": [
    "+ 迴圈的 else 子句在<font color=#FF0000>沒有任何 break 發生時執行</font>。"
   ]
  },
  {
   "cell_type": "markdown",
   "id": "2ab172fd",
   "metadata": {},
   "source": [
    "### pass 陳述式\n",
    "+ pass 陳述式**不執行任何動作**。它可用在語法上需要一個陳述式但程式不需要執行任何動作的時候。例如："
   ]
  },
  {
   "cell_type": "code",
   "execution_count": 19,
   "id": "2dd6ea1f",
   "metadata": {},
   "outputs": [
    {
     "name": "stdout",
     "output_type": "stream",
     "text": [
      "0\n"
     ]
    }
   ],
   "source": [
    "count = 0\n",
    "while True:\n",
    "    print(count)\n",
    "    count += 1\n",
    "    break\n",
    "    #pass  # Busy-wait for keyboard interrupt (Ctrl+C)"
   ]
  },
  {
   "cell_type": "markdown",
   "id": "8d645919",
   "metadata": {},
   "source": [
    "### match 陳述式\n",
    "\n",
    "+ match 陳述式會拿取一個運算式，並將其值與多個連續的模式 (pattern) 進行比較，這些模式是以一個或多個 case 區塊來表示。\n",
    "+ 表面上，這類似 C、Java 或 JavaScript（以及許多其他語言）中的 switch 陳述式"
   ]
  },
  {
   "cell_type": "code",
   "execution_count": 28,
   "id": "d9aa8979",
   "metadata": {},
   "outputs": [
    {
     "name": "stdout",
     "output_type": "stream",
     "text": [
      "sys.version_info(major=3, minor=9, micro=13, releaselevel='final', serial=0)\n"
     ]
    }
   ],
   "source": [
    "# 最簡單的形式，是將一個主題值 (subject value) 與一個或多個字面值 (literal) 進行比較：\n",
    "\n",
    "import sys\n",
    "print(sys.version_info)\n",
    "if (sys.version_info >= (3, 10)):\n",
    "    '''\n",
    "    grade = 5\n",
    "    match grade:\n",
    "        case 1:\n",
    "            print('一年级')\n",
    "        case 2:\n",
    "            print('二年级')\n",
    "        case 3:\n",
    "            print('三年级')\n",
    "        case 4 | 5 | 6:\n",
    "            print('高年级')\n",
    "        case _:\n",
    "            print('未知年级')\n",
    "    '''\n"
   ]
  },
  {
   "cell_type": "markdown",
   "id": "88ee9414",
   "metadata": {},
   "source": [
    "### 3. 介紹函數與其組成元素(function, parameter, return, lambda, annotation)\n",
    "### function 定義函式\n",
    "\n",
    "+ 關鍵字 **def** 介紹一個函式的定義。它之後必須連著該函式的名稱和置於括號之中的**一串參數**。\n",
    "    + 自下一行起，所有縮排的陳述式成為該函式的主體。"
   ]
  },
  {
   "cell_type": "code",
   "execution_count": 32,
   "id": "271f9678",
   "metadata": {},
   "outputs": [
    {
     "name": "stdout",
     "output_type": "stream",
     "text": [
      "0 1 1 2 3 5 8 13 21 34 55 89 144 233 377 610 987 1597 "
     ]
    }
   ],
   "source": [
    "# 我們可以建立一個函式來產生費式數列到任何一個上界：\n",
    "\n",
    "def fib(n):    # write Fibonacci series up to n\n",
    "    \"\"\"Print a Fibonacci series up to n.\"\"\"\n",
    "    a, b = 0, 1\n",
    "    while a < n:\n",
    "        print(a, end=' ')\n",
    "        a, b = b, a+b\n",
    "    n += 1\n",
    "\n",
    "# Now call the function we just defined:\n",
    "n = 2000\n",
    "fib(n)"
   ]
  },
  {
   "cell_type": "markdown",
   "id": "a64150f3",
   "metadata": {},
   "source": [
    "### 預設引數值\n",
    "+ 為一個或多個引數指定預設值是很有用的方式。函式建立後，可以用比定義時更少的引數呼叫該函式。例如："
   ]
  },
  {
   "cell_type": "code",
   "execution_count": 6,
   "id": "dfc56111",
   "metadata": {},
   "outputs": [
    {
     "name": "stdout",
     "output_type": "stream",
     "text": [
      "Do you really want to quit?y\n",
      "True\n",
      "OK to overwrite the file?y\n",
      "True\n",
      "OK to overwrite the file?y\n",
      "True\n"
     ]
    }
   ],
   "source": [
    "'''\n",
    "該函式可以用以下幾種方式被呼叫：\n",
    "\n",
    "只給必要引數：ask_ok('Do you really want to quit?')\n",
    "\n",
    "給予一個選擇性引數：ask_ok('OK to overwrite the file?', 2)\n",
    "\n",
    "給予所有引數：ask_ok('OK to overwrite the file?', 2, 'Come on, only yes or no!')\n",
    "'''\n",
    "def ask_ok(prompt, retries=4, reminder='Please try again!'):\n",
    "    while True:\n",
    "        ok = input(prompt)\n",
    "        if ok in ('y', 'ye', 'yes'):\n",
    "            return True\n",
    "        if ok in ('n', 'no', 'nop', 'nope'):\n",
    "            return False\n",
    "        retries = retries - 1\n",
    "        if retries < 0:\n",
    "            raise ValueError('invalid user response')\n",
    "        print(reminder)\n",
    "print(ask_ok('Do you really want to quit?'))\n",
    "print(ask_ok('OK to overwrite the file?', 2))\n",
    "print(ask_ok('OK to overwrite the file?', 2, 'Come on, only yes or no!'))"
   ]
  },
  {
   "cell_type": "code",
   "execution_count": 7,
   "id": "a3a8d844",
   "metadata": {},
   "outputs": [
    {
     "name": "stdout",
     "output_type": "stream",
     "text": [
      "5\n"
     ]
    }
   ],
   "source": [
    "# 預設值是在函式定義當下，於定義時的作用域中求值，所以\n",
    "i = 5\n",
    "\n",
    "def f(arg=i):\n",
    "    print(arg)\n",
    "\n",
    "i = 6\n",
    "f()"
   ]
  },
  {
   "cell_type": "code",
   "execution_count": 15,
   "id": "80c24f7a",
   "metadata": {},
   "outputs": [
    {
     "name": "stdout",
     "output_type": "stream",
     "text": [
      "2857869639488\n",
      "[1]\n",
      "2857869639488\n",
      "[1, 2]\n",
      "2857869639488\n",
      "[1, 2, 3]\n"
     ]
    }
   ],
   "source": [
    "# 重要警告：預設值只求值一次。當預設值為可變物件，例如 list、dictionary（字典）或許多類別實例時，會產生不同的結果。\n",
    "# 例如，以下函式於後續呼叫時會累積曾經傳遞的引數：\n",
    "def f(a, L=[]):\n",
    "    print(id(L))\n",
    "    L.append(a)\n",
    "    return L\n",
    "\n",
    "print(f(1))\n",
    "print(f(2))\n",
    "print(f(3))"
   ]
  },
  {
   "cell_type": "code",
   "execution_count": null,
   "id": "e4c95734",
   "metadata": {},
   "outputs": [],
   "source": [
    "# 如果不想在後續呼叫之間共用預設值，應以如下方式編寫函式：\n",
    "def f(a, L=None):\n",
    "    print(id(L))\n",
    "    if L is None:\n",
    "        L = [] # assign null list\n",
    "    print(id(L))\n",
    "    L.append(a)\n",
    "    return L\n",
    "\n",
    "print(f(1))\n",
    "print(f(2))\n",
    "print(f(3))"
   ]
  },
  {
   "cell_type": "markdown",
   "id": "c0628047",
   "metadata": {},
   "source": [
    "+ 當最後一個參數為 **name 形式時，它接收一個 dictionary（字典，詳見 映射类型 --- dict），該字典包含所有可對應形式參數以外的關鍵字引數。\n",
    "+ **name 可以與 *name 參數（下一小節介紹）組合使用，*name 接收一個 tuple，該 tuple 包含一般參數以外的位置引數\n",
    "    + （*name 必須出現在 **name 前面）。例如，若我們定義這樣的函式："
   ]
  },
  {
   "cell_type": "code",
   "execution_count": null,
   "id": "d38242cb",
   "metadata": {},
   "outputs": [],
   "source": [
    "def cheeseshop(kind, *arguments, **keywords):\n",
    "    print(\"-- Do you have any\", kind, \"?\")\n",
    "    print(\"-- I'm sorry, we're all out of\", kind)\n",
    "    for arg in arguments:\n",
    "        print(arg)\n",
    "    print(\"-\" * 40)\n",
    "    for kw in keywords:\n",
    "        print(kw, \":\", keywords[kw])\n",
    "\n",
    "cheeseshop(\"Limburger\", \"It's very runny, sir.\",\n",
    "           \"It's really very, VERY runny, sir.\",\n",
    "           shopkeeper=\"Michael Palin\",\n",
    "           client=\"John Cleese\",\n",
    "           sketch=\"Cheese Shop Sketch\")"
   ]
  },
  {
   "cell_type": "markdown",
   "id": "96df5e23",
   "metadata": {},
   "source": [
    "<font color=\"red\">注意</font>，關鍵字引數的**輸出順序**與**呼叫函式時被提供的順序必定一致**。"
   ]
  },
  {
   "cell_type": "markdown",
   "id": "8a1ffb15",
   "metadata": {},
   "source": [
    "###  Lambda 運算式\n",
    "\n",
    "+ lambda 關鍵字用於建立小巧的匿名函式。"
   ]
  },
  {
   "cell_type": "code",
   "execution_count": 2,
   "id": "4f54b18b",
   "metadata": {},
   "outputs": [
    {
     "name": "stdout",
     "output_type": "stream",
     "text": [
      "42\n",
      "43\n"
     ]
    }
   ],
   "source": [
    "def make_incrementor(n):\n",
    "    return lambda x: x + n\n",
    "\n",
    "f = make_incrementor(42)\n",
    "print(f(0))\n",
    "print(f(1))"
   ]
  },
  {
   "cell_type": "code",
   "execution_count": 12,
   "id": "703ba27e",
   "metadata": {},
   "outputs": [
    {
     "name": "stdout",
     "output_type": "stream",
     "text": [
      "[(4, 'four'), (1, 'one'), (3, 'three'), (2, 'two')]\n",
      "[(4, 'four'), (3, 'three'), (2, 'two'), (1, 'one')]\n"
     ]
    }
   ],
   "source": [
    "pairs = [(1, 'one'), (2, 'two'), (3, 'three'), (4, 'four')]\n",
    "pairs.sort(key=lambda pair: pair[1])\n",
    "print(pairs)\n",
    "pairs.sort(key=lambda pair: pair[0], reverse=True)\n",
    "print(pairs)"
   ]
  },
  {
   "cell_type": "code",
   "execution_count": null,
   "id": "ea8e20fb",
   "metadata": {},
   "outputs": [],
   "source": []
  }
 ],
 "metadata": {
  "kernelspec": {
   "display_name": "Python 3 (ipykernel)",
   "language": "python",
   "name": "python3"
  },
  "language_info": {
   "codemirror_mode": {
    "name": "ipython",
    "version": 3
   },
   "file_extension": ".py",
   "mimetype": "text/x-python",
   "name": "python",
   "nbconvert_exporter": "python",
   "pygments_lexer": "ipython3",
   "version": "3.9.13"
  }
 },
 "nbformat": 4,
 "nbformat_minor": 5
}
