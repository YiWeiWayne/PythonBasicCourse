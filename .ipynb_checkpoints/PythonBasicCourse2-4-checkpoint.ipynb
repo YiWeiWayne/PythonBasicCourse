{
 "cells": [
  {
   "cell_type": "markdown",
   "id": "0bb243ad",
   "metadata": {},
   "source": [
    "# PythonBasicCourse\n",
    "\n",
    "## 二、基本資料型態與語法\n",
    "### 4. 串列(List)的應用(新增、排序、搜尋、堆疊)"
   ]
  },
  {
   "cell_type": "code",
   "execution_count": null,
   "id": "d5a4d253",
   "metadata": {},
   "outputs": [],
   "source": []
  }
 ],
 "metadata": {
  "kernelspec": {
   "display_name": "Python 3 (ipykernel)",
   "language": "python",
   "name": "python3"
  },
  "language_info": {
   "codemirror_mode": {
    "name": "ipython",
    "version": 3
   },
   "file_extension": ".py",
   "mimetype": "text/x-python",
   "name": "python",
   "nbconvert_exporter": "python",
   "pygments_lexer": "ipython3",
   "version": "3.9.13"
  }
 },
 "nbformat": 4,
 "nbformat_minor": 5
}
