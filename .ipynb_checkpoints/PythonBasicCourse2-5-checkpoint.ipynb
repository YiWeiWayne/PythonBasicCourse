{
 "cells": [
  {
   "cell_type": "markdown",
   "id": "c6c0182e",
   "metadata": {},
   "source": [
    "# PythonBasicCourse\n",
    "\n",
    "## 二、基本資料型態與語法\n",
    "### 5. 集合與字典的應用(新增、搜尋、遍歷)"
   ]
  },
  {
   "cell_type": "code",
   "execution_count": null,
   "id": "45c7be09",
   "metadata": {},
   "outputs": [],
   "source": []
  }
 ],
 "metadata": {
  "kernelspec": {
   "display_name": "Python 3 (ipykernel)",
   "language": "python",
   "name": "python3"
  },
  "language_info": {
   "codemirror_mode": {
    "name": "ipython",
    "version": 3
   },
   "file_extension": ".py",
   "mimetype": "text/x-python",
   "name": "python",
   "nbconvert_exporter": "python",
   "pygments_lexer": "ipython3",
   "version": "3.9.13"
  }
 },
 "nbformat": 4,
 "nbformat_minor": 5
}
